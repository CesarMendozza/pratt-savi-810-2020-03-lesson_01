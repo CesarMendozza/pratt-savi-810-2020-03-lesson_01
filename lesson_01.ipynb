{
 "cells": [
  {
   "cell_type": "markdown",
   "metadata": {},
   "source": [
    "# Lesson 01\n",
    "# Introduction to the Course, Course Tools, Python Setup, Jupyter Notebook, Data Types, Functions\n",
    "\n",
    "![http://www.pratt.edu/tiny_mce/plugins/imagemanager/files/Light_brown_blue22.jpg](http://www.pratt.edu/tiny_mce/plugins/imagemanager/files/Light_brown_blue22.jpg)"
   ]
  },
  {
   "cell_type": "markdown",
   "metadata": {
    "toc": true
   },
   "source": [
    "<h1>Table of Contents<span class=\"tocSkip\"></span></h1>\n",
    "<div class=\"toc\"><ul class=\"toc-item\"><li><span><a href=\"#Lesson-01\" data-toc-modified-id=\"Lesson-01-1\">Lesson 01</a></span></li><li><span><a href=\"#Introduction-to-the-Course,-Course-Tools,-Python-Setup,-Jupyter-Notebook,-Data-Types,-Functions\" data-toc-modified-id=\"Introduction-to-the-Course,-Course-Tools,-Python-Setup,-Jupyter-Notebook,-Data-Types,-Functions-2\">Introduction to the Course, Course Tools, Python Setup, Jupyter Notebook, Data Types, Functions</a></span><ul class=\"toc-item\"><li><span><a href=\"#Recommended-Resources\" data-toc-modified-id=\"Recommended-Resources-2.1\">Recommended Resources</a></span></li><li><span><a href=\"#Learning-Objectives\" data-toc-modified-id=\"Learning-Objectives-2.2\">Learning Objectives</a></span></li><li><span><a href=\"#Introduction-to-the-Course\" data-toc-modified-id=\"Introduction-to-the-Course-2.3\">Introduction to the Course</a></span></li><li><span><a href=\"#Course-Tools\" data-toc-modified-id=\"Course-Tools-2.4\">Course Tools</a></span><ul class=\"toc-item\"><li><span><a href=\"#Slack\" data-toc-modified-id=\"Slack-2.4.1\">Slack</a></span></li><li><span><a href=\"#GitHub\" data-toc-modified-id=\"GitHub-2.4.2\">GitHub</a></span></li><li><span><a href=\"#Anaconda\" data-toc-modified-id=\"Anaconda-2.4.3\">Anaconda</a></span></li><li><span><a href=\"#Jupyter-Notebook\" data-toc-modified-id=\"Jupyter-Notebook-2.4.4\">Jupyter Notebook</a></span></li><li><span><a href=\"#Google-Colab-Notebooks\" data-toc-modified-id=\"Google-Colab-Notebooks-2.4.5\">Google Colab Notebooks</a></span></li></ul></li><li><span><a href=\"#Google-Colab-Notebooks---Let's-Make-a-Quick-Map-with-Python\" data-toc-modified-id=\"Google-Colab-Notebooks---Let's-Make-a-Quick-Map-with-Python-2.5\">Google Colab Notebooks - Let's Make a Quick Map with Python</a></span><ul class=\"toc-item\"><li><ul class=\"toc-item\"><li><span><a href=\"#In-the-first-cell-add:\" data-toc-modified-id=\"In-the-first-cell-add:-2.5.0.1\">In the first cell add:</a></span></li><li><span><a href=\"#Then,-we-import-the-following-libraries\" data-toc-modified-id=\"Then,-we-import-the-following-libraries-2.5.0.2\">Then, we import the following libraries</a></span></li><li><span><a href=\"#Next,-we'll-load-in-Natural-Earth-World-Countries-Features\" data-toc-modified-id=\"Next,-we'll-load-in-Natural-Earth-World-Countries-Features-2.5.0.3\">Next, we'll load in Natural Earth World Countries Features</a></span></li><li><span><a href=\"#Now-let's-take-a-look-at-the-Countries-Feature-Layer-dataframe\" data-toc-modified-id=\"Now-let's-take-a-look-at-the-Countries-Feature-Layer-dataframe-2.5.0.4\">Now let's take a look at the Countries Feature Layer dataframe</a></span></li><li><span><a href=\"#Now-let's-Make-a-Map!\" data-toc-modified-id=\"Now-let's-Make-a-Map!-2.5.0.5\">Now let's Make a Map!</a></span></li></ul></li></ul></li><li><span><a href=\"#Python-Setup\" data-toc-modified-id=\"Python-Setup-2.6\">Python Setup</a></span><ul class=\"toc-item\"><li><span><a href=\"#Anaconda---Python-3.7\" data-toc-modified-id=\"Anaconda---Python-3.7-2.6.1\">Anaconda - Python 3.7</a></span></li></ul></li><li><span><a href=\"#Python-Data-Types\" data-toc-modified-id=\"Python-Data-Types-2.7\">Python Data Types</a></span><ul class=\"toc-item\"><li><span><a href=\"#Integers\" data-toc-modified-id=\"Integers-2.7.1\">Integers</a></span></li><li><span><a href=\"#Float\" data-toc-modified-id=\"Float-2.7.2\">Float</a></span></li><li><span><a href=\"#Strings\" data-toc-modified-id=\"Strings-2.7.3\">Strings</a></span></li><li><span><a href=\"#Python-Operators-(+,-=,--,-*)\" data-toc-modified-id=\"Python-Operators-(+,-=,--,-*)-2.7.4\">Python Operators (+, =, -, *)</a></span><ul class=\"toc-item\"><li><span><a href=\"#Addition\" data-toc-modified-id=\"Addition-2.7.4.1\">Addition</a></span></li><li><span><a href=\"#Subtraction\" data-toc-modified-id=\"Subtraction-2.7.4.2\">Subtraction</a></span></li><li><span><a href=\"#Multiplication\" data-toc-modified-id=\"Multiplication-2.7.4.3\">Multiplication</a></span></li><li><span><a href=\"#Division\" data-toc-modified-id=\"Division-2.7.4.4\">Division</a></span></li><li><span><a href=\"#Floor-Operator\" data-toc-modified-id=\"Floor-Operator-2.7.4.5\">Floor Operator</a></span></li><li><span><a href=\"#Modulo-Operator\" data-toc-modified-id=\"Modulo-Operator-2.7.4.6\">Modulo Operator</a></span></li><li><span><a href=\"#Exponentiate\" data-toc-modified-id=\"Exponentiate-2.7.4.7\">Exponentiate</a></span></li></ul></li></ul></li><li><span><a href=\"#Variables\" data-toc-modified-id=\"Variables-2.8\">Variables</a></span><ul class=\"toc-item\"><li><span><a href=\"#Variable-Naming-Rules\" data-toc-modified-id=\"Variable-Naming-Rules-2.8.1\">Variable Naming Rules</a></span></li></ul></li><li><span><a href=\"#Functions\" data-toc-modified-id=\"Functions-2.9\">Functions</a></span></li></ul></li></ul></div>"
   ]
  },
  {
   "cell_type": "markdown",
   "metadata": {},
   "source": [
    "## Recommended Resources\n",
    "\n"
   ]
  },
  {
   "cell_type": "markdown",
   "metadata": {},
   "source": [
    "## Learning Objectives\n",
    "\n",
    "* To familiarize students with the course format\n",
    "* Introduce the Course Tools\n",
    "* Introduce Students to our Python Setup\n",
    "* Introduction to Python Data Types\n",
    "* Introduction to Python Functions"
   ]
  },
  {
   "cell_type": "markdown",
   "metadata": {},
   "source": [
    "## Introduction to the Course\n",
    "\n",
    "**[Syllabus](https://docs.google.com/document/d/1KHxT-NkaoXXdSNkK8JlzL2FFgmNoxPQ25fwgtXPnbrY)**\n",
    "\n",
    "**Class Format**:\n",
    "* 3 hour Classes\n",
    "  * 50 minutes of Lesson\n",
    "  * 5-10 minute Break\n",
    "  * 50 minutes of Lesson\n",
    "  * 5-10 minute Break\n",
    "  * ~45 minutes of Lesson\n",
    "  * 10-15 minutes Homework Introduction, etc. \n",
    "  * (this is subject to change)"
   ]
  },
  {
   "cell_type": "markdown",
   "metadata": {},
   "source": [
    "## Course Tools \n",
    "\n",
    "### Slack \n",
    "* [Join the Slack Group](https://join.slack.com/t/pratt-savi/shared_invite/zt-cywzjb3p-4Q_JaZNuenRGgf28tyMbRw)\n",
    "\n",
    "### GitHub\n",
    "\n",
    "* [Download GitHub Desktop](https://desktop.github.com/)\n",
    "* [Create a GitHub Account](https://github.com/)\n",
    "\n",
    "### Anaconda\n",
    "\n",
    "* [Download and Install Anaconda for Python 3.7](https://www.anaconda.com/distribution/#download-section)\n",
    "* [Installation Instructions](https://docs.anaconda.com/anaconda/install/)\n",
    "* [Download Anaconda Cheatsheet](https://docs.conda.io/projects/conda/en/4.6.0/_downloads/52a95608c49671267e40c689e0bc00ca/conda-cheatsheet.pdf)\n",
    "* ``conda create --name savi``\n",
    "\n",
    "\n",
    "### Jupyter Notebook\n",
    "> The Jupyter Notebook is an open-source web application that allows you to create and share documents that contain live code, equations, visualizations and narrative text. Uses include: data cleaning and transformation, numerical simulation, statistical modeling, data visualization, machine learning, and much more. - Source: [https://jupyter.org/](https://jupyter.org/)\n",
    "\n",
    "### Google Colab Notebooks\n",
    "\n",
    "* [Create a new Notebook](https://colab.research.google.com/notebook#create=true)\n",
    "\n",
    "\n",
    "\n",
    "\n",
    "\n",
    "\n"
   ]
  },
  {
   "cell_type": "markdown",
   "metadata": {},
   "source": [
    "## Google Colab Notebooks - Let's Make a Quick Map with Python\n",
    "\n",
    "![colab](https://raw.githubusercontent.com/pratt-savi-810/images/master/colab_map.png)\n",
    "\n",
    "* [Create a new Notebook](https://colab.research.google.com/notebook#create=true)\n",
    "\n",
    "#### In the first cell add:\n",
    "\n",
    "```python\n",
    "%%time \n",
    "!apt update\n",
    "!apt upgrade\n",
    "!apt install gdal-bin python-gdal python3-gdal \n",
    "# Install rtree - Geopandas requirment\n",
    "!apt install python3-rtree \n",
    "# Install Geopandas\n",
    "!pip install git+git://github.com/geopandas/geopandas.git\n",
    "# Install descartes - Geopandas requirment\n",
    "!pip install descartes \n",
    "```\n",
    "\n",
    "#### Then, we import the following libraries\n",
    "We'll discuss Libraries later on. "
   ]
  },
  {
   "cell_type": "code",
   "execution_count": 5,
   "metadata": {},
   "outputs": [],
   "source": [
    "import os\n",
    "import geopandas as gpd"
   ]
  },
  {
   "cell_type": "markdown",
   "metadata": {},
   "source": [
    "#### Next, we'll load in Natural Earth World Countries Features \n",
    "These features are natively installed with GeoPandas. We'll talk about GeoPandas later on as well."
   ]
  },
  {
   "cell_type": "code",
   "execution_count": 8,
   "metadata": {},
   "outputs": [],
   "source": [
    "countries = gpd.read_file(gpd.datasets.get_path('naturalearth_lowres'))"
   ]
  },
  {
   "cell_type": "markdown",
   "metadata": {},
   "source": [
    "#### Now let's take a look at the Countries Feature Layer dataframe \n",
    "We'll talk about DataFrames later on. "
   ]
  },
  {
   "cell_type": "code",
   "execution_count": 9,
   "metadata": {},
   "outputs": [
    {
     "data": {
      "text/html": [
       "<div>\n",
       "<style scoped>\n",
       "    .dataframe tbody tr th:only-of-type {\n",
       "        vertical-align: middle;\n",
       "    }\n",
       "\n",
       "    .dataframe tbody tr th {\n",
       "        vertical-align: top;\n",
       "    }\n",
       "\n",
       "    .dataframe thead th {\n",
       "        text-align: right;\n",
       "    }\n",
       "</style>\n",
       "<table border=\"1\" class=\"dataframe\">\n",
       "  <thead>\n",
       "    <tr style=\"text-align: right;\">\n",
       "      <th></th>\n",
       "      <th>pop_est</th>\n",
       "      <th>continent</th>\n",
       "      <th>name</th>\n",
       "      <th>iso_a3</th>\n",
       "      <th>gdp_md_est</th>\n",
       "      <th>geometry</th>\n",
       "    </tr>\n",
       "  </thead>\n",
       "  <tbody>\n",
       "    <tr>\n",
       "      <th>0</th>\n",
       "      <td>920938</td>\n",
       "      <td>Oceania</td>\n",
       "      <td>Fiji</td>\n",
       "      <td>FJI</td>\n",
       "      <td>8374.0</td>\n",
       "      <td>MULTIPOLYGON (((180.00000 -16.06713, 180.00000...</td>\n",
       "    </tr>\n",
       "    <tr>\n",
       "      <th>1</th>\n",
       "      <td>53950935</td>\n",
       "      <td>Africa</td>\n",
       "      <td>Tanzania</td>\n",
       "      <td>TZA</td>\n",
       "      <td>150600.0</td>\n",
       "      <td>POLYGON ((33.90371 -0.95000, 34.07262 -1.05982...</td>\n",
       "    </tr>\n",
       "    <tr>\n",
       "      <th>2</th>\n",
       "      <td>603253</td>\n",
       "      <td>Africa</td>\n",
       "      <td>W. Sahara</td>\n",
       "      <td>ESH</td>\n",
       "      <td>906.5</td>\n",
       "      <td>POLYGON ((-8.66559 27.65643, -8.66512 27.58948...</td>\n",
       "    </tr>\n",
       "    <tr>\n",
       "      <th>3</th>\n",
       "      <td>35623680</td>\n",
       "      <td>North America</td>\n",
       "      <td>Canada</td>\n",
       "      <td>CAN</td>\n",
       "      <td>1674000.0</td>\n",
       "      <td>MULTIPOLYGON (((-122.84000 49.00000, -122.9742...</td>\n",
       "    </tr>\n",
       "    <tr>\n",
       "      <th>4</th>\n",
       "      <td>326625791</td>\n",
       "      <td>North America</td>\n",
       "      <td>United States of America</td>\n",
       "      <td>USA</td>\n",
       "      <td>18560000.0</td>\n",
       "      <td>MULTIPOLYGON (((-122.84000 49.00000, -120.0000...</td>\n",
       "    </tr>\n",
       "  </tbody>\n",
       "</table>\n",
       "</div>"
      ],
      "text/plain": [
       "     pop_est      continent                      name iso_a3  gdp_md_est  \\\n",
       "0     920938        Oceania                      Fiji    FJI      8374.0   \n",
       "1   53950935         Africa                  Tanzania    TZA    150600.0   \n",
       "2     603253         Africa                 W. Sahara    ESH       906.5   \n",
       "3   35623680  North America                    Canada    CAN   1674000.0   \n",
       "4  326625791  North America  United States of America    USA  18560000.0   \n",
       "\n",
       "                                            geometry  \n",
       "0  MULTIPOLYGON (((180.00000 -16.06713, 180.00000...  \n",
       "1  POLYGON ((33.90371 -0.95000, 34.07262 -1.05982...  \n",
       "2  POLYGON ((-8.66559 27.65643, -8.66512 27.58948...  \n",
       "3  MULTIPOLYGON (((-122.84000 49.00000, -122.9742...  \n",
       "4  MULTIPOLYGON (((-122.84000 49.00000, -120.0000...  "
      ]
     },
     "execution_count": 9,
     "metadata": {},
     "output_type": "execute_result"
    }
   ],
   "source": [
    "countries.head()"
   ]
  },
  {
   "cell_type": "markdown",
   "metadata": {},
   "source": [
    "#### Now let's Make a Map!\n",
    "This is very easy with GeoPandas. Making maps later on will be more complicated. "
   ]
  },
  {
   "cell_type": "code",
   "execution_count": 7,
   "metadata": {},
   "outputs": [
    {
     "data": {
      "image/png": "[encoded data removed]",
      "text/plain": [
       "<Figure size 1152x1152 with 1 Axes>"
      ]
     },
     "metadata": {
      "needs_background": "light"
     },
     "output_type": "display_data"
    }
   ],
   "source": [
    "countries.plot(figsize=(16, 16));"
   ]
  },
  {
   "cell_type": "markdown",
   "metadata": {},
   "source": [
    "## Python Setup\n"
   ]
  },
  {
   "cell_type": "markdown",
   "metadata": {},
   "source": [
    "For this class we will use Anaconda Python.\n",
    "\n",
    "### Anaconda - Python 3.7\n",
    "\n",
    "* [Download and Install Anaconda for Python 3.7](https://www.anaconda.com/distribution/#download-section)\n",
    "* [Installation Instructions](https://docs.anaconda.com/anaconda/install/)\n",
    "* [Download Anaconda Cheatsheet](https://docs.conda.io/projects/conda/en/4.6.0/_downloads/52a95608c49671267e40c689e0bc00ca/conda-cheatsheet.pdf)\n",
    "* ``conda create --name savi``"
   ]
  },
  {
   "cell_type": "markdown",
   "metadata": {},
   "source": [
    "## Python Data Types\n",
    "Learn more about [Python Data Types from Python.org](https://docs.python.org/3.7/library/datatypes.html).\n",
    "\n",
    "You can check any Python object's type with the `type()` function. \n",
    "\n",
    "### Integers "
   ]
  },
  {
   "cell_type": "code",
   "execution_count": 11,
   "metadata": {},
   "outputs": [
    {
     "data": {
      "text/plain": [
       "5"
      ]
     },
     "execution_count": 11,
     "metadata": {},
     "output_type": "execute_result"
    }
   ],
   "source": [
    "5"
   ]
  },
  {
   "cell_type": "code",
   "execution_count": 13,
   "metadata": {},
   "outputs": [
    {
     "data": {
      "text/plain": [
       "int"
      ]
     },
     "execution_count": 13,
     "metadata": {},
     "output_type": "execute_result"
    }
   ],
   "source": [
    "type(5)"
   ]
  },
  {
   "cell_type": "markdown",
   "metadata": {},
   "source": [
    "### Float \n",
    "Floats are decimal numeric types"
   ]
  },
  {
   "cell_type": "code",
   "execution_count": 15,
   "metadata": {},
   "outputs": [
    {
     "data": {
      "text/plain": [
       "1.7"
      ]
     },
     "execution_count": 15,
     "metadata": {},
     "output_type": "execute_result"
    }
   ],
   "source": [
    "1.7"
   ]
  },
  {
   "cell_type": "code",
   "execution_count": 18,
   "metadata": {},
   "outputs": [
    {
     "data": {
      "text/plain": [
       "2.0000009"
      ]
     },
     "execution_count": 18,
     "metadata": {},
     "output_type": "execute_result"
    }
   ],
   "source": [
    "2.0000009"
   ]
  },
  {
   "cell_type": "code",
   "execution_count": 19,
   "metadata": {},
   "outputs": [
    {
     "data": {
      "text/plain": [
       "float"
      ]
     },
     "execution_count": 19,
     "metadata": {},
     "output_type": "execute_result"
    }
   ],
   "source": [
    "type(1.7)"
   ]
  },
  {
   "cell_type": "markdown",
   "metadata": {},
   "source": [
    "### Strings\n",
    "Strings are a data type that stores text as data. \n",
    "\n",
    "**You can add comments to lines of codes with the hash symbol** `# comment`"
   ]
  },
  {
   "cell_type": "code",
   "execution_count": 21,
   "metadata": {},
   "outputs": [
    {
     "data": {
      "text/plain": [
       "'Geospatial is fun!!!!'"
      ]
     },
     "execution_count": 21,
     "metadata": {},
     "output_type": "execute_result"
    }
   ],
   "source": [
    "\"Geospatial is fun!\"  # strings can be stored inside double-quotes"
   ]
  },
  {
   "cell_type": "code",
   "execution_count": 23,
   "metadata": {},
   "outputs": [
    {
     "data": {
      "text/plain": [
       "'Python is fun!'"
      ]
     },
     "execution_count": 23,
     "metadata": {},
     "output_type": "execute_result"
    }
   ],
   "source": [
    "'Python is fun!'  # strings can be stored in single-quotes"
   ]
  },
  {
   "cell_type": "code",
   "execution_count": 25,
   "metadata": {},
   "outputs": [],
   "source": [
    "# you can set a \"variable\" to equal the string to store for later...\n",
    "multiline_string = \"\"\" \n",
    "I can write multi-line comments. \n",
    "\n",
    "A Poem. \n",
    "\n",
    "GIS is awesome! And so is Python!\n",
    "\n",
    "Fin.\n",
    "\"\"\""
   ]
  },
  {
   "cell_type": "code",
   "execution_count": 32,
   "metadata": {},
   "outputs": [
    {
     "name": "stdout",
     "output_type": "stream",
     "text": [
      " \n",
      "I can write multi-line comments. \n",
      "\n",
      "A Poem. \n",
      "\n",
      "GIS is awesome! And so is Python!\n",
      "\n",
      "Fin.\n",
      "\n"
     ]
    }
   ],
   "source": [
    "print(multiline_string)"
   ]
  },
  {
   "cell_type": "code",
   "execution_count": 34,
   "metadata": {},
   "outputs": [
    {
     "name": "stdout",
     "output_type": "stream",
     "text": [
      "John Doe\n"
     ]
    }
   ],
   "source": [
    "first_name = 'John'\n",
    "last_name = 'Doe'\n",
    "\n",
    "print(first_name, last_name)"
   ]
  },
  {
   "cell_type": "markdown",
   "metadata": {},
   "source": [
    "### Python Operators (+, =, -, *)\n",
    "\n",
    "#### Addition"
   ]
  },
  {
   "cell_type": "code",
   "execution_count": 30,
   "metadata": {},
   "outputs": [
    {
     "data": {
      "text/plain": [
       "5"
      ]
     },
     "execution_count": 30,
     "metadata": {},
     "output_type": "execute_result"
    }
   ],
   "source": [
    "3 + 2"
   ]
  },
  {
   "cell_type": "code",
   "execution_count": 31,
   "metadata": {},
   "outputs": [
    {
     "data": {
      "text/plain": [
       "5.5"
      ]
     },
     "execution_count": 31,
     "metadata": {},
     "output_type": "execute_result"
    }
   ],
   "source": [
    "3 + 2.5"
   ]
  },
  {
   "cell_type": "code",
   "execution_count": 39,
   "metadata": {},
   "outputs": [
    {
     "name": "stdout",
     "output_type": "stream",
     "text": [
      "Doe, John loves Geospatial Technology!\n"
     ]
    }
   ],
   "source": [
    "full_name = last_name + ', ' + first_name + ' loves Geospatial Technology!'\n",
    "# you can add strings together with + \n",
    "\n",
    "print(full_name) "
   ]
  },
  {
   "cell_type": "markdown",
   "metadata": {},
   "source": [
    "#### Subtraction"
   ]
  },
  {
   "cell_type": "code",
   "execution_count": 41,
   "metadata": {},
   "outputs": [
    {
     "data": {
      "text/plain": [
       "-123214435"
      ]
     },
     "execution_count": 41,
     "metadata": {},
     "output_type": "execute_result"
    }
   ],
   "source": [
    "1000 - 123215435"
   ]
  },
  {
   "cell_type": "markdown",
   "metadata": {},
   "source": [
    "#### Multiplication\n"
   ]
  },
  {
   "cell_type": "code",
   "execution_count": 42,
   "metadata": {},
   "outputs": [
    {
     "data": {
      "text/plain": [
       "5.5"
      ]
     },
     "execution_count": 42,
     "metadata": {},
     "output_type": "execute_result"
    }
   ],
   "source": [
    "5 * 1.1"
   ]
  },
  {
   "cell_type": "code",
   "execution_count": 43,
   "metadata": {},
   "outputs": [
    {
     "data": {
      "text/plain": [
       "'JohnJohnJohn'"
      ]
     },
     "execution_count": 43,
     "metadata": {},
     "output_type": "execute_result"
    }
   ],
   "source": [
    "first_name * 3  # you can multiply strings!"
   ]
  },
  {
   "cell_type": "markdown",
   "metadata": {},
   "source": [
    "#### Division"
   ]
  },
  {
   "cell_type": "code",
   "execution_count": 52,
   "metadata": {},
   "outputs": [
    {
     "data": {
      "text/plain": [
       "3.3333333333333335"
      ]
     },
     "execution_count": 52,
     "metadata": {},
     "output_type": "execute_result"
    }
   ],
   "source": [
    "10 / 3\n",
    "# Note this operates slightly differently for integers in Python 2.x"
   ]
  },
  {
   "cell_type": "markdown",
   "metadata": {},
   "source": [
    "#### Floor Operator \n",
    "\n",
    "> The / (division) and // (floor division) operators yield the quotient of their arguments. The numeric arguments are first converted to a common type. Division of integers yields a float, while floor division of integers results in an integer; the result is that of mathematical division with the ‘floor’ function applied to the result. Division by zero raises the ZeroDivisionError exception. - Source: [https://docs.python.org/3.3/reference/expressions.html#binary-arithmetic-operations](https://docs.python.org/3.3/reference/expressions.html#binary-arithmetic-operations)"
   ]
  },
  {
   "cell_type": "code",
   "execution_count": 53,
   "metadata": {},
   "outputs": [
    {
     "data": {
      "text/plain": [
       "3"
      ]
     },
     "execution_count": 53,
     "metadata": {},
     "output_type": "execute_result"
    }
   ],
   "source": [
    "10 // 3"
   ]
  },
  {
   "cell_type": "markdown",
   "metadata": {},
   "source": [
    "#### Modulo Operator\n",
    "\n",
    "> The % (modulo) operator yields the remainder from the division of the first argument by the second. The numeric arguments are first converted to a common type. A zero right argument raises the ZeroDivisionError exception. The arguments may be floating point numbers, e.g., 3.14%0.7 equals 0.34 (since 3.14 equals 4*0.7 + 0.34.) The modulo operator always yields a result with the same sign as its second operand (or zero); the absolute value of the result is strictly smaller than the absolute value of the second operand [1]. - Source: [https://docs.python.org/3.3/reference/expressions.html#binary-arithmetic-operations](https://docs.python.org/3.3/reference/expressions.html#binary-arithmetic-operations)"
   ]
  },
  {
   "cell_type": "code",
   "execution_count": 66,
   "metadata": {},
   "outputs": [
    {
     "data": {
      "text/plain": [
       "1"
      ]
     },
     "execution_count": 66,
     "metadata": {},
     "output_type": "execute_result"
    }
   ],
   "source": [
    "10 % 3  # the remainder from the division of the first argument by the second"
   ]
  },
  {
   "cell_type": "markdown",
   "metadata": {},
   "source": [
    "#### Exponentiate"
   ]
  },
  {
   "cell_type": "code",
   "execution_count": 57,
   "metadata": {},
   "outputs": [
    {
     "data": {
      "text/plain": [
       "4"
      ]
     },
     "execution_count": 57,
     "metadata": {},
     "output_type": "execute_result"
    }
   ],
   "source": [
    "2 ** 2"
   ]
  },
  {
   "cell_type": "markdown",
   "metadata": {},
   "source": [
    "## Variables\n",
    "\n",
    "Often in Python, you want to reuse some value, you can do this easily using a **Variable**. I can overwrite some defined Variables if the datatype is **Mutable**. "
   ]
  },
  {
   "cell_type": "code",
   "execution_count": 61,
   "metadata": {},
   "outputs": [],
   "source": [
    "x = 5"
   ]
  },
  {
   "cell_type": "code",
   "execution_count": 63,
   "metadata": {},
   "outputs": [
    {
     "data": {
      "text/plain": [
       "3125"
      ]
     },
     "execution_count": 63,
     "metadata": {},
     "output_type": "execute_result"
    }
   ],
   "source": [
    "x ** x"
   ]
  },
  {
   "cell_type": "code",
   "execution_count": 64,
   "metadata": {},
   "outputs": [],
   "source": [
    "x = 2  # this overwrites the initial x, this type of object, is Mutable."
   ]
  },
  {
   "cell_type": "code",
   "execution_count": 67,
   "metadata": {},
   "outputs": [
    {
     "data": {
      "text/plain": [
       "4"
      ]
     },
     "execution_count": 67,
     "metadata": {},
     "output_type": "execute_result"
    }
   ],
   "source": [
    "x ** x"
   ]
  },
  {
   "cell_type": "markdown",
   "metadata": {},
   "source": [
    "### Variable Naming Rules\n",
    "\n",
    "* Use lowercase without spaces.\n",
    "* Use underscores in place of spaces.\n",
    "* Name variables descriptively. \n",
    "* Do not start variable name with a number. \n",
    "* Avoid existing function and built-in names. "
   ]
  },
  {
   "cell_type": "code",
   "execution_count": null,
   "metadata": {},
   "outputs": [],
   "source": []
  },
  {
   "cell_type": "markdown",
   "metadata": {},
   "source": [
    "## Functions\n"
   ]
  },
  {
   "cell_type": "code",
   "execution_count": null,
   "metadata": {},
   "outputs": [],
   "source": []
  }
 ],
 "metadata": {
  "kernelspec": {
   "display_name": "Python 3",
   "language": "python",
   "name": "python3"
  },
  "language_info": {
   "codemirror_mode": {
    "name": "ipython",
    "version": 3
   },
   "file_extension": ".py",
   "mimetype": "text/x-python",
   "name": "python",
   "nbconvert_exporter": "python",
   "pygments_lexer": "ipython3",
   "version": "3.7.5"
  },
  "toc": {
   "base_numbering": 1,
   "nav_menu": {},
   "number_sections": false,
   "sideBar": true,
   "skip_h1_title": false,
   "title_cell": "Table of Contents",
   "title_sidebar": "Contents",
   "toc_cell": true,
   "toc_position": {
    "height": "calc(100% - 180px)",
    "left": "10px",
    "top": "150px",
    "width": "165px"
   },
   "toc_section_display": true,
   "toc_window_display": true
  }
 },
 "nbformat": 4,
 "nbformat_minor": 2
}
